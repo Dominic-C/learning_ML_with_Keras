{
 "cells": [
  {
   "cell_type": "code",
   "execution_count": 1,
   "metadata": {},
   "outputs": [
    {
     "name": "stderr",
     "output_type": "stream",
     "text": [
      "Using TensorFlow backend.\n"
     ]
    }
   ],
   "source": [
    "# convnet is used for image based data\n",
    "# basic idea: Conv -> pool -> conv -> pool\n",
    "\n",
    "import tensorflow as tf\n",
    "from tensorflow import keras\n",
    "from keras.models import Sequential\n",
    "from keras.layers import Dense, Dropout, Activation, Flatten, Conv2D, MaxPooling2D\n",
    "import pickle\n",
    "\n",
    "X = pickle.load(open(\"X.pickle\", \"rb\"))\n",
    "y = pickle.load(open(\"y.pickle\", \"rb\"))\n",
    "\n"
   ]
  },
  {
   "cell_type": "code",
   "execution_count": 2,
   "metadata": {},
   "outputs": [
    {
     "name": "stdout",
     "output_type": "stream",
     "text": [
      "(24946, 70, 70, 1)\n",
      "Train on 22451 samples, validate on 2495 samples\n",
      "Epoch 1/10\n",
      "22451/22451 [==============================] - 14s 645us/step - loss: 0.6376 - acc: 0.6393 - val_loss: 0.6100 - val_acc: 0.6705\n",
      "Epoch 2/10\n",
      "22451/22451 [==============================] - 13s 595us/step - loss: 0.5526 - acc: 0.7228 - val_loss: 0.5576 - val_acc: 0.7066\n",
      "Epoch 3/10\n",
      "22451/22451 [==============================] - 13s 597us/step - loss: 0.4902 - acc: 0.7660 - val_loss: 0.5073 - val_acc: 0.7527\n",
      "Epoch 4/10\n",
      "22451/22451 [==============================] - 14s 612us/step - loss: 0.4484 - acc: 0.7909 - val_loss: 0.4831 - val_acc: 0.7691\n",
      "Epoch 5/10\n",
      "22451/22451 [==============================] - 13s 589us/step - loss: 0.4125 - acc: 0.8136 - val_loss: 0.4913 - val_acc: 0.7643\n",
      "Epoch 6/10\n",
      "22451/22451 [==============================] - 13s 590us/step - loss: 0.3845 - acc: 0.8277 - val_loss: 0.4816 - val_acc: 0.7743\n",
      "Epoch 7/10\n",
      "22451/22451 [==============================] - 13s 588us/step - loss: 0.3563 - acc: 0.8402 - val_loss: 0.4861 - val_acc: 0.7872\n",
      "Epoch 8/10\n",
      "22451/22451 [==============================] - 13s 587us/step - loss: 0.3300 - acc: 0.8556 - val_loss: 0.4886 - val_acc: 0.7856\n",
      "Epoch 9/10\n",
      "22451/22451 [==============================] - 13s 587us/step - loss: 0.2997 - acc: 0.8687 - val_loss: 0.4854 - val_acc: 0.7960\n",
      "Epoch 10/10\n",
      "22451/22451 [==============================] - 13s 591us/step - loss: 0.2812 - acc: 0.8820 - val_loss: 0.5115 - val_acc: 0.7948\n"
     ]
    },
    {
     "data": {
      "text/plain": [
       "<keras.callbacks.History at 0x7fc449f8f5c0>"
      ]
     },
     "execution_count": 2,
     "metadata": {},
     "output_type": "execute_result"
    }
   ],
   "source": [
    "# First thing to consider before feeding data into neural network is to normalize the data\n",
    "X = X/255.0\n",
    "\n",
    "model = Sequential()\n",
    "\n",
    "print(X.shape)\n",
    "model.add(Conv2D(64, (3,3), input_shape = X.shape[1:]))\n",
    "model.add(Activation(\"relu\")) # in general, conv and max pooling go together.\n",
    "model.add(MaxPooling2D(pool_size=(2,2)))\n",
    "\n",
    "model.add(Conv2D(64, (3,3))) # where 3,3 is the sliding window size (known as kernel)\n",
    "model.add(Activation(\"relu\"))\n",
    "model.add(MaxPooling2D(pool_size=(2,2)))\n",
    "          \n",
    "model.add(Flatten())\n",
    "model.add(Activation(\"relu\"))\n",
    "model.add(Dense(64))\n",
    "          \n",
    "model.add(Dense(1))\n",
    "model.add(Activation(\"sigmoid\"))\n",
    "          \n",
    "model.compile(loss=\"binary_crossentropy\", optimizer = \"adam\",\n",
    "             metrics = [\"accuracy\"])\n",
    "          \n",
    "model.fit(X, y, epochs=10, batch_size=32, validation_split=0.1) # batch size is how many we want to fit"
   ]
  },
  {
   "cell_type": "code",
   "execution_count": null,
   "metadata": {},
   "outputs": [],
   "source": []
  }
 ],
 "metadata": {
  "kernelspec": {
   "display_name": "Python 3",
   "language": "python",
   "name": "python3"
  },
  "language_info": {
   "codemirror_mode": {
    "name": "ipython",
    "version": 3
   },
   "file_extension": ".py",
   "mimetype": "text/x-python",
   "name": "python",
   "nbconvert_exporter": "python",
   "pygments_lexer": "ipython3",
   "version": "3.5.2"
  }
 },
 "nbformat": 4,
 "nbformat_minor": 2
}
